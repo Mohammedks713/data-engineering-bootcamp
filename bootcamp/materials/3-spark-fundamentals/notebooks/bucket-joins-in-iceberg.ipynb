{
 "cells": [
  {
   "cell_type": "code",
   "execution_count": 1,
   "id": "7b5962a5-5334-4560-86d0-7eabce394b8c",
   "metadata": {},
   "outputs": [
    {
     "data": {
      "text/plain": [
       "Intitializing Scala interpreter ..."
      ]
     },
     "metadata": {},
     "output_type": "display_data"
    },
    {
     "data": {
      "text/plain": [
       "Spark Web UI available at http://bfd824c6013a:4044\n",
       "SparkContext available as 'sc' (version = 3.5.1, master = local[*], app id = local-1737180575566)\n",
       "SparkSession available as 'spark'\n"
      ]
     },
     "metadata": {},
     "output_type": "display_data"
    },
    {
     "data": {
      "text/plain": [
       "import org.apache.spark.sql.functions.{broadcast, split, lit}\n",
       "matchesBucketed: org.apache.spark.sql.DataFrame = [match_id: string, mapid: string ... 8 more fields]\n",
       "matchDetailsBucketed: org.apache.spark.sql.DataFrame = [match_id: string, player_gamertag: string ... 34 more fields]\n"
      ]
     },
     "execution_count": 1,
     "metadata": {},
     "output_type": "execute_result"
    }
   ],
   "source": [
    "// In python use: from pyspark.sql.functions import broadcast, split, lit\n",
    "import org.apache.spark.sql.functions.{broadcast, split, lit}\n",
    "\n",
    "\n",
    "val matchesBucketed = spark.read.option(\"header\", \"true\")\n",
    "                        .option(\"inferSchema\", \"true\")\n",
    "                        .csv(\"/home/iceberg/data/matches.csv\")\n",
    "val matchDetailsBucketed =  spark.read.option(\"header\", \"true\")\n",
    "                        .option(\"inferSchema\", \"true\")\n",
    "                        .csv(\"/home/iceberg/data/match_details.csv\")"
   ]
  },
  {
   "cell_type": "code",
   "execution_count": 2,
   "id": "7a083d66-d5f7-4235-925b-bf885ad5598f",
   "metadata": {},
   "outputs": [
    {
     "data": {
      "text/plain": [
       "bucketedDDL: String =\n",
       "\"\n",
       "CREATE TABLE IF NOT EXISTS bootcamp.matches_bucketed (\n",
       "     match_id STRING,\n",
       "     is_team_game BOOLEAN,\n",
       "     playlist_id STRING,\n",
       "     completion_date TIMESTAMP\n",
       " )\n",
       " USING iceberg\n",
       " PARTITIONED BY (completion_date, bucket(16, match_id));\n",
       " \"\n",
       "res0: org.apache.spark.sql.DataFrame = []\n"
      ]
     },
     "execution_count": 2,
     "metadata": {},
     "output_type": "execute_result"
    }
   ],
   "source": [
    "spark.sql(\"\"\"DROP TABLE IF EXISTS bootcamp.matches_bucketed\"\"\")\n",
    "val bucketedDDL = \"\"\"\n",
    "CREATE TABLE IF NOT EXISTS bootcamp.matches_bucketed (\n",
    "     match_id STRING,\n",
    "     is_team_game BOOLEAN,\n",
    "     playlist_id STRING,\n",
    "     completion_date TIMESTAMP\n",
    " )\n",
    " USING iceberg\n",
    " PARTITIONED BY (completion_date, bucket(16, match_id));\n",
    " \"\"\"\n",
    " spark.sql(bucketedDDL)"
   ]
  },
  {
   "cell_type": "code",
   "execution_count": null,
   "id": "886e8042-5ef9-4194-8800-9b50ab504319",
   "metadata": {},
   "outputs": [],
   "source": [
    "matchesBucketed.select(\n",
    "     $\"match_id\", $\"is_team_game\", $\"playlist_id\", $\"completion_date\"\n",
    "     )\n",
    "     .write.mode(\"append\")\n",
    "     .partitionBy(\"completion_date\")\n",
    "     .bucketBy(16, \"match_id\").saveAsTable(\"bootcamp.matches_bucketed\")"
   ]
  },
  {
   "cell_type": "code",
   "execution_count": null,
   "id": "a3e56d1e-7694-4fb4-8813-2282bed149a6",
   "metadata": {},
   "outputs": [],
   "source": [
    " val bucketedDetailsDDL = \"\"\"\n",
    " CREATE TABLE IF NOT EXISTS bootcamp.match_details_bucketed (\n",
    "     match_id STRING,\n",
    "     player_gamertag STRING,\n",
    "     player_total_kills INTEGER,\n",
    "     player_total_deaths INTEGER\n",
    " )\n",
    " USING iceberg\n",
    " PARTITIONED BY (bucket(16, match_id));\n",
    " \"\"\"\n",
    " spark.sql(bucketedDetailsDDL)"
   ]
  },
  {
   "cell_type": "code",
   "execution_count": null,
   "id": "ca42fb39-06f2-44c1-95e8-fb911d645191",
   "metadata": {},
   "outputs": [],
   "source": [
    " matchDetailsBucketed.select(\n",
    "     $\"match_id\", $\"player_gamertag\", $\"player_total_kills\", $\"player_total_deaths\")\n",
    "    .write.mode(\"append\")\n",
    "   .bucketBy(16, \"match_id\").saveAsTable(\"bootcamp.match_details_bucketed\")\n",
    "\n",
    "spark.conf.set(\"spark.sql.autoBroadcastJoinThreshold\", \"-1\")"
   ]
  },
  {
   "cell_type": "code",
   "execution_count": null,
   "id": "3e2b27cb-e8cf-45a7-b1bc-c13800a86b9f",
   "metadata": {},
   "outputs": [],
   "source": [
    "matchesBucketed.createOrReplaceTempView(\"matches\")\n",
    "matchDetailsBucketed.createOrReplaceTempView(\"match_details\")"
   ]
  },
  {
   "cell_type": "code",
   "execution_count": null,
   "id": "ae22bfd0-8fd6-4176-aaa3-a2081124939c",
   "metadata": {},
   "outputs": [],
   "source": [
    "spark.sql(\"\"\"\n",
    "    SELECT * FROM bootcamp.match_details_bucketed mdb JOIN bootcamp.matches_bucketed md \n",
    "    ON mdb.match_id = md.match_id\n",
    "    AND md.completion_date = DATE('2016-01-01')\n",
    "        \n",
    "\"\"\").explain()"
   ]
  },
  {
   "cell_type": "code",
   "execution_count": null,
   "id": "eed2781d-4d29-47fc-b9e8-e1d1a783e472",
   "metadata": {},
   "outputs": [],
   "source": [
    "spark.sql(\"\"\"\n",
    "    SELECT * FROM match_details mdb JOIN matches md ON mdb.match_id = md.match_id\n",
    "        \n",
    "\"\"\").explain()"
   ]
  },
  {
   "cell_type": "code",
   "execution_count": null,
   "id": "02bf05e3-382e-47c6-aba6-002e89fcaae3",
   "metadata": {},
   "outputs": [],
   "source": [
    " spark.conf.set(\"spark.sql.autoBroadcastJoinThreshold\", \"1000000000000\")"
   ]
  },
  {
   "cell_type": "code",
   "execution_count": null,
   "id": "d3412563-761b-4089-8cc1-01fa8ec1e859",
   "metadata": {},
   "outputs": [],
   "source": [
    " val broadcastFromThreshold = matches.as(\"m\").join(matchDetails.as(\"md\"), $\"m.match_id\" === $\"md.match_id\")\n",
    "  .select($\"m.completion_date\", $\"md.player_gamertag\",  $\"md.player_total_kills\")\n",
    "   .take(5)"
   ]
  },
  {
   "cell_type": "code",
   "execution_count": null,
   "id": "0493f79d-93fd-4dde-a147-c07011d63e18",
   "metadata": {},
   "outputs": [],
   "source": [
    " val explicitBroadcast = matches.as(\"m\").join(broadcast(matchDetails).as(\"md\"), $\"m.match_id\" === $\"md.match_id\")\n",
    "   .select($\"md.*\", split($\"completion_date\", \" \").getItem(0).as(\"ds\"))"
   ]
  },
  {
   "cell_type": "code",
   "execution_count": null,
   "id": "a5f387db-8e26-49e5-b10a-0ac59ec4042f",
   "metadata": {},
   "outputs": [],
   "source": [
    " val bucketedValues = matchDetailsBucketed.as(\"mdb\").join(matchesBucketed.as(\"mb\"), $\"mb.match_id\" === $\"mdb.match_id\").explain()\n",
    " // .take(5)"
   ]
  },
  {
   "cell_type": "code",
   "execution_count": null,
   "id": "9fb9ea4a-bc2b-4c71-8541-4168b47ea043",
   "metadata": {},
   "outputs": [],
   "source": [
    " val values = matchDetailsBucketed.as(\"m\").join(matchesBucketed.as(\"md\"), $\"m.match_id\" === $\"md.match_id\").explain()"
   ]
  },
  {
   "cell_type": "code",
   "execution_count": null,
   "id": "a58ef33f-819d-4c40-b638-be9231d393e7",
   "metadata": {},
   "outputs": [],
   "source": [
    " explicitBroadcast.write.mode(\"overwrite\").insertInto(\"match_details_bucketed\")"
   ]
  },
  {
   "cell_type": "code",
   "execution_count": null,
   "id": "31e410da-c685-482c-ac2e-9de88152eba6",
   "metadata": {},
   "outputs": [],
   "source": [
    " matches.withColumn(\"ds\", split($\"completion_date\", \" \").getItem(0)).write.mode(\"overwrite\").insertInto(\"matches_bucketed\")"
   ]
  },
  {
   "cell_type": "code",
   "execution_count": null,
   "id": "d89aeff1-50bd-4f20-9f44-e15782f7560e",
   "metadata": {},
   "outputs": [],
   "source": [
    " spark.sql(bucketedSQL)"
   ]
  },
  {
   "cell_type": "code",
   "execution_count": null,
   "id": "fc8adb02-d5bd-4e84-a671-48991772d233",
   "metadata": {},
   "outputs": [],
   "source": []
  },
  {
   "cell_type": "code",
   "execution_count": null,
   "id": "6f1eecb6-ca9a-4b5c-b046-b3a0dd1ff3bf",
   "metadata": {},
   "outputs": [],
   "source": []
  }
 ],
 "metadata": {
  "kernelspec": {
   "display_name": "spylon-kernel",
   "language": "scala",
   "name": "spylon-kernel"
  },
  "language_info": {
   "codemirror_mode": "text/x-scala",
   "file_extension": ".scala",
   "help_links": [
    {
     "text": "MetaKernel Magics",
     "url": "https://metakernel.readthedocs.io/en/latest/source/README.html"
    }
   ],
   "mimetype": "text/x-scala",
   "name": "scala",
   "pygments_lexer": "scala",
   "version": "0.4.1"
  }
 },
 "nbformat": 4,
 "nbformat_minor": 5
}
